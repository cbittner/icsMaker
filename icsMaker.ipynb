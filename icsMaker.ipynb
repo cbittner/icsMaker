{
 "cells": [
  {
   "cell_type": "code",
   "execution_count": 15,
   "id": "f9f2e724",
   "metadata": {},
   "outputs": [],
   "source": [
    "pip install ics"
   ]
  },
  {
   "cell_type": "code",
   "execution_count": 4,
   "id": "3de9ef2a",
   "metadata": {},
   "outputs": [],
   "source": [
    "from ics import Calendar, Event\n",
    "import datetime\n"
   ]
  },
  {
   "cell_type": "code",
   "execution_count": 57,
   "id": "5ba571ff",
   "metadata": {},
   "outputs": [],
   "source": [
    "# Dateneingabe\n",
    "name = \"super Besprechung\"\n",
    "link = \"https://terminplaner4.dfn.de/Js63VcaELy5e4Cil\"\n",
    "dates = ['01/10/22 11:00',\n",
    "         '01/11/22 8:00',\n",
    "         '01/12/22 13:00'\n",
    "        ]\n",
    "duration = 120\n",
    "description = \"hier stept der Bär\""
   ]
  },
  {
   "cell_type": "code",
   "execution_count": 58,
   "id": "d37fc219",
   "metadata": {},
   "outputs": [],
   "source": [
    "# create ics\n",
    "c = Calendar()\n",
    "for x in dates:\n",
    "    e = Event()\n",
    "    # set event start\n",
    "    start = datetime.datetime.strptime(\n",
    "      x, '%m/%d/%y %H:%M')\n",
    "    # convert to UTC\n",
    "    start = start.utcfromtimestamp(float(start.strftime(\"%s\")))\n",
    "    # set event start\n",
    "    end = start + datetime.timedelta(minutes=duration)\n",
    "    e.name = name\n",
    "    e.begin = start\n",
    "    e.end = end\n",
    "    e.url = link\n",
    "    e.status = \"TENTATIVE\"\n",
    "    e.description = description\n",
    "    c.events.add(e)"
   ]
  },
  {
   "cell_type": "code",
   "execution_count": 59,
   "id": "07c0b9a2",
   "metadata": {},
   "outputs": [],
   "source": [
    "# export ics\n",
    "with open('dates.ics', 'w') as my_file:\n",
    "    my_file.writelines(c)"
   ]
  }
 ],
 "metadata": {
  "kernelspec": {
   "display_name": "Python 3 (ipykernel)",
   "language": "python",
   "name": "python3"
  },
  "language_info": {
   "codemirror_mode": {
    "name": "ipython",
    "version": 3
   },
   "file_extension": ".py",
   "mimetype": "text/x-python",
   "name": "python",
   "nbconvert_exporter": "python",
   "pygments_lexer": "ipython3",
   "version": "3.9.7"
  }
 },
 "nbformat": 4,
 "nbformat_minor": 5
}
